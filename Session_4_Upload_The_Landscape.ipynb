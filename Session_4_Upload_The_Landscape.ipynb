{
 "cells": [
  {
   "cell_type": "markdown",
   "metadata": {
    "colab_type": "text",
    "id": "view-in-github"
   },
   "source": [
    "<a href=\"https://colab.research.google.com/github/SFIComplexityExplorer/Mesa-ABM-Tutorial/blob/main/Session_4_Upload_The_Landscape.ipynb\" target=\"_parent\"><img src=\"https://colab.research.google.com/assets/colab-badge.svg\" alt=\"Open In Colab\"/></a>"
   ]
  },
  {
   "cell_type": "markdown",
   "metadata": {
    "id": "XAnII-29m3r2"
   },
   "source": [
    "# Import Dependencies"
   ]
  },
  {
   "cell_type": "code",
   "execution_count": 1,
   "metadata": {
    "id": "cCa7pEqXdY82"
   },
   "outputs": [
    {
     "name": "stdout",
     "output_type": "stream",
     "text": [
      "Requirement already satisfied: mesa in c:\\users\\hp\\appdata\\local\\programs\\python\\python310\\lib\\site-packages (2.3.2)\n",
      "Requirement already satisfied: click in c:\\users\\hp\\appdata\\local\\programs\\python\\python310\\lib\\site-packages (from mesa) (8.1.7)\n",
      "Requirement already satisfied: cookiecutter in c:\\users\\hp\\appdata\\local\\programs\\python\\python310\\lib\\site-packages (from mesa) (2.6.0)\n",
      "Requirement already satisfied: matplotlib in c:\\users\\hp\\appdata\\local\\programs\\python\\python310\\lib\\site-packages (from mesa) (3.6.0)\n",
      "Requirement already satisfied: mesa-viz-tornado>=0.1.3,~=0.1.0 in c:\\users\\hp\\appdata\\local\\programs\\python\\python310\\lib\\site-packages (from mesa) (0.1.3)\n",
      "Requirement already satisfied: networkx in c:\\users\\hp\\appdata\\local\\programs\\python\\python310\\lib\\site-packages (from mesa) (3.2.1)\n",
      "Requirement already satisfied: numpy in c:\\users\\hp\\appdata\\local\\programs\\python\\python310\\lib\\site-packages (from mesa) (1.23.3)\n",
      "Requirement already satisfied: pandas in c:\\users\\hp\\appdata\\local\\programs\\python\\python310\\lib\\site-packages (from mesa) (2.0.3)\n",
      "Requirement already satisfied: solara in c:\\users\\hp\\appdata\\local\\programs\\python\\python310\\lib\\site-packages (from mesa) (1.36.0)\n",
      "Requirement already satisfied: tqdm in c:\\users\\hp\\appdata\\local\\programs\\python\\python310\\lib\\site-packages (from mesa) (4.66.1)\n",
      "Requirement already satisfied: tornado in c:\\users\\hp\\appdata\\local\\programs\\python\\python310\\lib\\site-packages (from mesa-viz-tornado>=0.1.3,~=0.1.0->mesa) (6.2)\n",
      "Requirement already satisfied: colorama in c:\\users\\hp\\appdata\\local\\programs\\python\\python310\\lib\\site-packages (from click->mesa) (0.4.5)\n",
      "Requirement already satisfied: binaryornot>=0.4.4 in c:\\users\\hp\\appdata\\local\\programs\\python\\python310\\lib\\site-packages (from cookiecutter->mesa) (0.4.4)\n",
      "Requirement already satisfied: Jinja2<4.0.0,>=2.7 in c:\\users\\hp\\appdata\\local\\programs\\python\\python310\\lib\\site-packages (from cookiecutter->mesa) (3.1.2)\n",
      "Requirement already satisfied: pyyaml>=5.3.1 in c:\\users\\hp\\appdata\\local\\programs\\python\\python310\\lib\\site-packages (from cookiecutter->mesa) (6.0.1)\n",
      "Requirement already satisfied: python-slugify>=4.0.0 in c:\\users\\hp\\appdata\\local\\programs\\python\\python310\\lib\\site-packages (from cookiecutter->mesa) (8.0.4)\n",
      "Requirement already satisfied: requests>=2.23.0 in c:\\users\\hp\\appdata\\local\\programs\\python\\python310\\lib\\site-packages (from cookiecutter->mesa) (2.31.0)\n",
      "Requirement already satisfied: arrow in c:\\users\\hp\\appdata\\local\\programs\\python\\python310\\lib\\site-packages (from cookiecutter->mesa) (1.3.0)\n",
      "Requirement already satisfied: rich in c:\\users\\hp\\appdata\\local\\programs\\python\\python310\\lib\\site-packages (from cookiecutter->mesa) (13.7.1)\n",
      "Requirement already satisfied: contourpy>=1.0.1 in c:\\users\\hp\\appdata\\local\\programs\\python\\python310\\lib\\site-packages (from matplotlib->mesa) (1.0.5)\n",
      "Requirement already satisfied: cycler>=0.10 in c:\\users\\hp\\appdata\\local\\programs\\python\\python310\\lib\\site-packages (from matplotlib->mesa) (0.11.0)\n",
      "Requirement already satisfied: fonttools>=4.22.0 in c:\\users\\hp\\appdata\\local\\programs\\python\\python310\\lib\\site-packages (from matplotlib->mesa) (4.37.3)\n",
      "Requirement already satisfied: kiwisolver>=1.0.1 in c:\\users\\hp\\appdata\\local\\programs\\python\\python310\\lib\\site-packages (from matplotlib->mesa) (1.4.4)\n",
      "Requirement already satisfied: packaging>=20.0 in c:\\users\\hp\\appdata\\local\\programs\\python\\python310\\lib\\site-packages (from matplotlib->mesa) (21.3)\n",
      "Requirement already satisfied: pillow>=6.2.0 in c:\\users\\hp\\appdata\\local\\programs\\python\\python310\\lib\\site-packages (from matplotlib->mesa) (9.2.0)\n",
      "Requirement already satisfied: pyparsing>=2.2.1 in c:\\users\\hp\\appdata\\local\\programs\\python\\python310\\lib\\site-packages (from matplotlib->mesa) (3.0.9)\n",
      "Requirement already satisfied: python-dateutil>=2.7 in c:\\users\\hp\\appdata\\local\\programs\\python\\python310\\lib\\site-packages (from matplotlib->mesa) (2.8.2)\n",
      "Requirement already satisfied: pytz>=2020.1 in c:\\users\\hp\\appdata\\local\\programs\\python\\python310\\lib\\site-packages (from pandas->mesa) (2023.3)\n",
      "Requirement already satisfied: tzdata>=2022.1 in c:\\users\\hp\\appdata\\local\\programs\\python\\python310\\lib\\site-packages (from pandas->mesa) (2023.3)\n",
      "Requirement already satisfied: solara-server==1.36.0 in c:\\users\\hp\\appdata\\local\\programs\\python\\python310\\lib\\site-packages (from solara-server[dev,starlette]==1.36.0->solara->mesa) (1.36.0)\n",
      "Requirement already satisfied: solara-ui==1.36.0 in c:\\users\\hp\\appdata\\local\\programs\\python\\python310\\lib\\site-packages (from solara-ui[all]==1.36.0->solara->mesa) (1.36.0)\n",
      "Requirement already satisfied: filelock in c:\\users\\hp\\appdata\\local\\programs\\python\\python310\\lib\\site-packages (from solara-server==1.36.0->solara-server[dev,starlette]==1.36.0->solara->mesa) (3.8.0)\n",
      "Requirement already satisfied: ipykernel in c:\\users\\hp\\appdata\\local\\programs\\python\\python310\\lib\\site-packages (from solara-server==1.36.0->solara-server[dev,starlette]==1.36.0->solara->mesa) (6.15.3)\n",
      "Requirement already satisfied: jupyter-client>=7.0.0 in c:\\users\\hp\\appdata\\local\\programs\\python\\python310\\lib\\site-packages (from solara-server==1.36.0->solara-server[dev,starlette]==1.36.0->solara->mesa) (7.3.5)\n",
      "Requirement already satisfied: nbformat in c:\\users\\hp\\appdata\\local\\programs\\python\\python310\\lib\\site-packages (from solara-server==1.36.0->solara-server[dev,starlette]==1.36.0->solara->mesa) (5.5.0)\n",
      "Requirement already satisfied: rich-click in c:\\users\\hp\\appdata\\local\\programs\\python\\python310\\lib\\site-packages (from solara-server==1.36.0->solara-server[dev,starlette]==1.36.0->solara->mesa) (1.8.3)\n",
      "Requirement already satisfied: starlette in c:\\users\\hp\\appdata\\local\\programs\\python\\python310\\lib\\site-packages (from solara-server[dev,starlette]==1.36.0->solara->mesa) (0.38.1)\n",
      "Requirement already satisfied: uvicorn in c:\\users\\hp\\appdata\\local\\programs\\python\\python310\\lib\\site-packages (from solara-server[dev,starlette]==1.36.0->solara->mesa) (0.30.3)\n",
      "Requirement already satisfied: websockets in c:\\users\\hp\\appdata\\local\\programs\\python\\python310\\lib\\site-packages (from solara-server[dev,starlette]==1.36.0->solara->mesa) (12.0)\n",
      "Requirement already satisfied: watchdog in c:\\users\\hp\\appdata\\local\\programs\\python\\python310\\lib\\site-packages (from solara-server[dev,starlette]==1.36.0->solara->mesa) (4.0.1)\n",
      "Requirement already satisfied: watchfiles in c:\\users\\hp\\appdata\\local\\programs\\python\\python310\\lib\\site-packages (from solara-server[dev,starlette]==1.36.0->solara->mesa) (0.22.0)\n",
      "Requirement already satisfied: humanize in c:\\users\\hp\\appdata\\local\\programs\\python\\python310\\lib\\site-packages (from solara-ui==1.36.0->solara-ui[all]==1.36.0->solara->mesa) (4.10.0)\n",
      "Requirement already satisfied: ipyvue>=1.9.0 in c:\\users\\hp\\appdata\\local\\programs\\python\\python310\\lib\\site-packages (from solara-ui==1.36.0->solara-ui[all]==1.36.0->solara->mesa) (1.11.1)\n",
      "Requirement already satisfied: ipyvuetify>=1.6.10 in c:\\users\\hp\\appdata\\local\\programs\\python\\python310\\lib\\site-packages (from solara-ui==1.36.0->solara-ui[all]==1.36.0->solara->mesa) (1.9.4)\n",
      "Requirement already satisfied: ipywidgets>=7.7 in c:\\users\\hp\\appdata\\local\\programs\\python\\python310\\lib\\site-packages (from solara-ui==1.36.0->solara-ui[all]==1.36.0->solara->mesa) (8.0.2)\n",
      "Requirement already satisfied: reacton>=1.7.1 in c:\\users\\hp\\appdata\\local\\programs\\python\\python310\\lib\\site-packages (from solara-ui==1.36.0->solara-ui[all]==1.36.0->solara->mesa) (1.8.3)\n",
      "Requirement already satisfied: chardet>=3.0.2 in c:\\users\\hp\\appdata\\local\\programs\\python\\python310\\lib\\site-packages (from binaryornot>=0.4.4->cookiecutter->mesa) (5.2.0)\n",
      "Requirement already satisfied: MarkupSafe>=2.0 in c:\\users\\hp\\appdata\\local\\programs\\python\\python310\\lib\\site-packages (from Jinja2<4.0.0,>=2.7->cookiecutter->mesa) (2.1.1)\n",
      "Requirement already satisfied: six>=1.5 in c:\\users\\hp\\appdata\\local\\programs\\python\\python310\\lib\\site-packages (from python-dateutil>=2.7->matplotlib->mesa) (1.16.0)\n",
      "Requirement already satisfied: text-unidecode>=1.3 in c:\\users\\hp\\appdata\\local\\programs\\python\\python310\\lib\\site-packages (from python-slugify>=4.0.0->cookiecutter->mesa) (1.3)\n",
      "Requirement already satisfied: charset-normalizer<4,>=2 in c:\\users\\hp\\appdata\\local\\programs\\python\\python310\\lib\\site-packages (from requests>=2.23.0->cookiecutter->mesa) (3.3.2)\n",
      "Requirement already satisfied: idna<4,>=2.5 in c:\\users\\hp\\appdata\\local\\programs\\python\\python310\\lib\\site-packages (from requests>=2.23.0->cookiecutter->mesa) (3.6)\n",
      "Requirement already satisfied: urllib3<3,>=1.21.1 in c:\\users\\hp\\appdata\\local\\programs\\python\\python310\\lib\\site-packages (from requests>=2.23.0->cookiecutter->mesa) (2.1.0)\n",
      "Requirement already satisfied: certifi>=2017.4.17 in c:\\users\\hp\\appdata\\local\\programs\\python\\python310\\lib\\site-packages (from requests>=2.23.0->cookiecutter->mesa) (2023.11.17)\n",
      "Requirement already satisfied: types-python-dateutil>=2.8.10 in c:\\users\\hp\\appdata\\local\\programs\\python\\python310\\lib\\site-packages (from arrow->cookiecutter->mesa) (2.9.0.20240316)\n",
      "Requirement already satisfied: markdown-it-py>=2.2.0 in c:\\users\\hp\\appdata\\local\\programs\\python\\python310\\lib\\site-packages (from rich->cookiecutter->mesa) (3.0.0)\n",
      "Requirement already satisfied: pygments<3.0.0,>=2.13.0 in c:\\users\\hp\\appdata\\local\\programs\\python\\python310\\lib\\site-packages (from rich->cookiecutter->mesa) (2.13.0)\n",
      "Requirement already satisfied: ipython>=6.1.0 in c:\\users\\hp\\appdata\\local\\programs\\python\\python310\\lib\\site-packages (from ipywidgets>=7.7->solara-ui==1.36.0->solara-ui[all]==1.36.0->solara->mesa) (8.5.0)\n",
      "Requirement already satisfied: traitlets>=4.3.1 in c:\\users\\hp\\appdata\\local\\programs\\python\\python310\\lib\\site-packages (from ipywidgets>=7.7->solara-ui==1.36.0->solara-ui[all]==1.36.0->solara->mesa) (5.4.0)\n",
      "Requirement already satisfied: widgetsnbextension~=4.0 in c:\\users\\hp\\appdata\\local\\programs\\python\\python310\\lib\\site-packages (from ipywidgets>=7.7->solara-ui==1.36.0->solara-ui[all]==1.36.0->solara->mesa) (4.0.3)\n",
      "Requirement already satisfied: jupyterlab-widgets~=3.0 in c:\\users\\hp\\appdata\\local\\programs\\python\\python310\\lib\\site-packages (from ipywidgets>=7.7->solara-ui==1.36.0->solara-ui[all]==1.36.0->solara->mesa) (3.0.3)\n",
      "Requirement already satisfied: debugpy>=1.0 in c:\\users\\hp\\appdata\\local\\programs\\python\\python310\\lib\\site-packages (from ipykernel->solara-server==1.36.0->solara-server[dev,starlette]==1.36.0->solara->mesa) (1.6.3)\n",
      "Requirement already satisfied: matplotlib-inline>=0.1 in c:\\users\\hp\\appdata\\local\\programs\\python\\python310\\lib\\site-packages (from ipykernel->solara-server==1.36.0->solara-server[dev,starlette]==1.36.0->solara->mesa) (0.1.6)\n",
      "Requirement already satisfied: nest-asyncio in c:\\users\\hp\\appdata\\local\\programs\\python\\python310\\lib\\site-packages (from ipykernel->solara-server==1.36.0->solara-server[dev,starlette]==1.36.0->solara->mesa) (1.5.5)\n",
      "Requirement already satisfied: psutil in c:\\users\\hp\\appdata\\local\\programs\\python\\python310\\lib\\site-packages (from ipykernel->solara-server==1.36.0->solara-server[dev,starlette]==1.36.0->solara->mesa) (5.9.2)\n",
      "Requirement already satisfied: pyzmq>=17 in c:\\users\\hp\\appdata\\local\\programs\\python\\python310\\lib\\site-packages (from ipykernel->solara-server==1.36.0->solara-server[dev,starlette]==1.36.0->solara->mesa) (24.0.0)\n",
      "Requirement already satisfied: entrypoints in c:\\users\\hp\\appdata\\local\\programs\\python\\python310\\lib\\site-packages (from jupyter-client>=7.0.0->solara-server==1.36.0->solara-server[dev,starlette]==1.36.0->solara->mesa) (0.4)\n",
      "Requirement already satisfied: jupyter-core>=4.9.2 in c:\\users\\hp\\appdata\\local\\programs\\python\\python310\\lib\\site-packages (from jupyter-client>=7.0.0->solara-server==1.36.0->solara-server[dev,starlette]==1.36.0->solara->mesa) (4.11.1)\n",
      "Requirement already satisfied: mdurl~=0.1 in c:\\users\\hp\\appdata\\local\\programs\\python\\python310\\lib\\site-packages (from markdown-it-py>=2.2.0->rich->cookiecutter->mesa) (0.1.2)\n",
      "Requirement already satisfied: typing-extensions>=4.1.1 in c:\\users\\hp\\appdata\\local\\programs\\python\\python310\\lib\\site-packages (from reacton>=1.7.1->solara-ui==1.36.0->solara-ui[all]==1.36.0->solara->mesa) (4.8.0)\n",
      "Requirement already satisfied: fastjsonschema in c:\\users\\hp\\appdata\\local\\programs\\python\\python310\\lib\\site-packages (from nbformat->solara-server==1.36.0->solara-server[dev,starlette]==1.36.0->solara->mesa) (2.16.2)\n",
      "Requirement already satisfied: jsonschema>=2.6 in c:\\users\\hp\\appdata\\local\\programs\\python\\python310\\lib\\site-packages (from nbformat->solara-server==1.36.0->solara-server[dev,starlette]==1.36.0->solara->mesa) (4.16.0)\n",
      "Requirement already satisfied: cachetools in c:\\users\\hp\\appdata\\local\\programs\\python\\python310\\lib\\site-packages (from solara-ui==1.36.0->solara-ui[all]==1.36.0->solara->mesa) (5.4.0)\n",
      "Requirement already satisfied: markdown in c:\\users\\hp\\appdata\\local\\programs\\python\\python310\\lib\\site-packages (from solara-ui==1.36.0->solara-ui[all]==1.36.0->solara->mesa) (3.6)\n",
      "Requirement already satisfied: pymdown-extensions in c:\\users\\hp\\appdata\\local\\programs\\python\\python310\\lib\\site-packages (from solara-ui==1.36.0->solara-ui[all]==1.36.0->solara->mesa) (10.8.1)\n",
      "Requirement already satisfied: anyio<5,>=3.4.0 in c:\\users\\hp\\appdata\\local\\programs\\python\\python310\\lib\\site-packages (from starlette->solara-server[dev,starlette]==1.36.0->solara->mesa) (4.4.0)\n",
      "Requirement already satisfied: h11>=0.8 in c:\\users\\hp\\appdata\\local\\programs\\python\\python310\\lib\\site-packages (from uvicorn->solara-server[dev,starlette]==1.36.0->solara->mesa) (0.14.0)\n",
      "Requirement already satisfied: sniffio>=1.1 in c:\\users\\hp\\appdata\\local\\programs\\python\\python310\\lib\\site-packages (from anyio<5,>=3.4.0->starlette->solara-server[dev,starlette]==1.36.0->solara->mesa) (1.3.1)\n",
      "Requirement already satisfied: exceptiongroup>=1.0.2 in c:\\users\\hp\\appdata\\local\\programs\\python\\python310\\lib\\site-packages (from anyio<5,>=3.4.0->starlette->solara-server[dev,starlette]==1.36.0->solara->mesa) (1.2.2)\n",
      "Requirement already satisfied: backcall in c:\\users\\hp\\appdata\\local\\programs\\python\\python310\\lib\\site-packages (from ipython>=6.1.0->ipywidgets>=7.7->solara-ui==1.36.0->solara-ui[all]==1.36.0->solara->mesa) (0.2.0)\n",
      "Requirement already satisfied: decorator in c:\\users\\hp\\appdata\\local\\programs\\python\\python310\\lib\\site-packages (from ipython>=6.1.0->ipywidgets>=7.7->solara-ui==1.36.0->solara-ui[all]==1.36.0->solara->mesa) (5.1.1)\n",
      "Requirement already satisfied: jedi>=0.16 in c:\\users\\hp\\appdata\\local\\programs\\python\\python310\\lib\\site-packages (from ipython>=6.1.0->ipywidgets>=7.7->solara-ui==1.36.0->solara-ui[all]==1.36.0->solara->mesa) (0.18.1)\n",
      "Requirement already satisfied: pickleshare in c:\\users\\hp\\appdata\\local\\programs\\python\\python310\\lib\\site-packages (from ipython>=6.1.0->ipywidgets>=7.7->solara-ui==1.36.0->solara-ui[all]==1.36.0->solara->mesa) (0.7.5)\n",
      "Requirement already satisfied: prompt-toolkit<3.1.0,>3.0.1 in c:\\users\\hp\\appdata\\local\\programs\\python\\python310\\lib\\site-packages (from ipython>=6.1.0->ipywidgets>=7.7->solara-ui==1.36.0->solara-ui[all]==1.36.0->solara->mesa) (3.0.31)\n",
      "Requirement already satisfied: stack-data in c:\\users\\hp\\appdata\\local\\programs\\python\\python310\\lib\\site-packages (from ipython>=6.1.0->ipywidgets>=7.7->solara-ui==1.36.0->solara-ui[all]==1.36.0->solara->mesa) (0.5.0)\n",
      "Requirement already satisfied: attrs>=17.4.0 in c:\\users\\hp\\appdata\\local\\programs\\python\\python310\\lib\\site-packages (from jsonschema>=2.6->nbformat->solara-server==1.36.0->solara-server[dev,starlette]==1.36.0->solara->mesa) (22.1.0)\n",
      "Requirement already satisfied: pyrsistent!=0.17.0,!=0.17.1,!=0.17.2,>=0.14.0 in c:\\users\\hp\\appdata\\local\\programs\\python\\python310\\lib\\site-packages (from jsonschema>=2.6->nbformat->solara-server==1.36.0->solara-server[dev,starlette]==1.36.0->solara->mesa) (0.18.1)\n",
      "Requirement already satisfied: pywin32>=1.0 in c:\\users\\hp\\appdata\\local\\programs\\python\\python310\\lib\\site-packages (from jupyter-core>=4.9.2->jupyter-client>=7.0.0->solara-server==1.36.0->solara-server[dev,starlette]==1.36.0->solara->mesa) (304)\n",
      "Requirement already satisfied: parso<0.9.0,>=0.8.0 in c:\\users\\hp\\appdata\\local\\programs\\python\\python310\\lib\\site-packages (from jedi>=0.16->ipython>=6.1.0->ipywidgets>=7.7->solara-ui==1.36.0->solara-ui[all]==1.36.0->solara->mesa) (0.8.3)\n",
      "Requirement already satisfied: wcwidth in c:\\users\\hp\\appdata\\local\\programs\\python\\python310\\lib\\site-packages (from prompt-toolkit<3.1.0,>3.0.1->ipython>=6.1.0->ipywidgets>=7.7->solara-ui==1.36.0->solara-ui[all]==1.36.0->solara->mesa) (0.2.5)\n",
      "Requirement already satisfied: executing in c:\\users\\hp\\appdata\\local\\programs\\python\\python310\\lib\\site-packages (from stack-data->ipython>=6.1.0->ipywidgets>=7.7->solara-ui==1.36.0->solara-ui[all]==1.36.0->solara->mesa) (1.0.0)\n",
      "Requirement already satisfied: asttokens in c:\\users\\hp\\appdata\\local\\programs\\python\\python310\\lib\\site-packages (from stack-data->ipython>=6.1.0->ipywidgets>=7.7->solara-ui==1.36.0->solara-ui[all]==1.36.0->solara->mesa) (2.0.8)\n",
      "Requirement already satisfied: pure-eval in c:\\users\\hp\\appdata\\local\\programs\\python\\python310\\lib\\site-packages (from stack-data->ipython>=6.1.0->ipywidgets>=7.7->solara-ui==1.36.0->solara-ui[all]==1.36.0->solara->mesa) (0.2.2)\n"
     ]
    },
    {
     "name": "stderr",
     "output_type": "stream",
     "text": [
      "\n",
      "[notice] A new release of pip is available: 23.3.1 -> 24.1.2\n",
      "[notice] To update, run: python.exe -m pip install --upgrade pip\n"
     ]
    }
   ],
   "source": [
    "!pip install mesa"
   ]
  },
  {
   "cell_type": "code",
   "execution_count": 2,
   "metadata": {
    "id": "ikSl2Mz0m252"
   },
   "outputs": [],
   "source": [
    "import mesa\n",
    "import numpy as np\n",
    "import math\n",
    "import matplotlib.pyplot as plt\n",
    "\n",
    "%matplotlib inline"
   ]
  },
  {
   "cell_type": "markdown",
   "metadata": {
    "id": "BkX5GqjSnAu0"
   },
   "source": [
    "# Resource Classes"
   ]
  },
  {
   "cell_type": "code",
   "execution_count": 3,
   "metadata": {
    "id": "o1EOk5KMnC55"
   },
   "outputs": [],
   "source": [
    "class Sugar(mesa.Agent):\n",
    "  \"\"\"\n",
    "  Sugar: \n",
    "  - contains an amount of sugar\n",
    "  - grows 1 amount of sugar at each turn \n",
    "  \"\"\"\n",
    "\n",
    "  def __init__(self, unique_id, model, pos, max_sugar): \n",
    "    print(\"I am sugar\")"
   ]
  },
  {
   "cell_type": "code",
   "execution_count": 4,
   "metadata": {
    "id": "-oJ35Mx7nXmK"
   },
   "outputs": [],
   "source": [
    "class Spice(mesa.Agent):\n",
    "  \"\"\"\n",
    "  Spice: \n",
    "  - contains an amount of spice\n",
    "  - grows 1 amount of spice at each turn\n",
    "  \"\"\"\n",
    "\n",
    "  def __init__(self):\n",
    "    print(\"I am spice\")\n",
    "  "
   ]
  },
  {
   "cell_type": "markdown",
   "metadata": {
    "id": "XYcwNrHqnrPt"
   },
   "source": [
    "# Trader Agent"
   ]
  },
  {
   "cell_type": "code",
   "execution_count": 5,
   "metadata": {
    "id": "t51BNfwUnt53"
   },
   "outputs": [],
   "source": [
    "class Trader(mesa.Agent): \n",
    "  \"\"\"\n",
    "  Trader: \n",
    "  - has a metabolism of sugar and spice\n",
    "  - harvest and trade sugar and spice to survive\n",
    "  \"\"\"\n",
    "\n",
    "  def __init__(self):\n",
    "    print(\"I am Trader\")\n",
    " "
   ]
  },
  {
   "cell_type": "markdown",
   "metadata": {
    "id": "SRrU2ABBoF0i"
   },
   "source": [
    "# Model Class"
   ]
  },
  {
   "cell_type": "code",
   "execution_count": 6,
   "metadata": {
    "id": "7DTonjahn2BT"
   },
   "outputs": [],
   "source": [
    "class SugarscapeG1mt(mesa.Model):\n",
    "  \"\"\"\n",
    "  Manager class to run Sugarscape with Traders\n",
    "  \"\"\"\n",
    "  \n",
    "  \n",
    "  def __init__(self, width=50,height=50):\n",
    "    \n",
    "    #Initiate width and heigh of sugarscape\n",
    "    self.width = width\n",
    "    self.height = height \n",
    "    \n",
    "    #initiate mesa grid class\n",
    "    self.grid = mesa.space.MultiGrid(self.width, self.height, torus=False)\n",
    "\n",
    "    #read in landscape file from supplmentary material \n",
    "    sugar_distribution =np.genfromtxt(\"sugar-map.txt\")\n",
    "    spice_distribution = np.flip(sugar_distribution, 1)\n",
    "    plt.imshow(spice_distribution, origin=\"lower\")\n"
   ]
  },
  {
   "cell_type": "markdown",
   "metadata": {
    "id": "_KHKfeD9oiYo"
   },
   "source": [
    "# Run Sugarscape"
   ]
  },
  {
   "cell_type": "code",
   "execution_count": 7,
   "metadata": {
    "colab": {
     "base_uri": "https://localhost:8080/",
     "height": 265
    },
    "id": "at455urSol7b",
    "outputId": "e8641ad4-f161-475a-cde7-cf63c00c249a"
   },
   "outputs": [
    {
     "data": {
      "image/png": "[encoded data removed]",
      "text/plain": [
       "<Figure size 640x480 with 1 Axes>"
      ]
     },
     "metadata": {},
     "output_type": "display_data"
    }
   ],
   "source": [
    "model = SugarscapeG1mt()\n",
    "\n"
   ]
  },
  {
   "cell_type": "code",
   "execution_count": null,
   "metadata": {
    "id": "vemquyVptT3Z"
   },
   "outputs": [],
   "source": []
  }
 ],
 "metadata": {
  "colab": {
   "include_colab_link": true,
   "provenance": []
  },
  "kernelspec": {
   "display_name": "Python 3 (ipykernel)",
   "language": "python",
   "name": "python3"
  },
  "language_info": {
   "codemirror_mode": {
    "name": "ipython",
    "version": 3
   },
   "file_extension": ".py",
   "mimetype": "text/x-python",
   "name": "python",
   "nbconvert_exporter": "python",
   "pygments_lexer": "ipython3",
   "version": "3.10.7"
  }
 },
 "nbformat": 4,
 "nbformat_minor": 1
}
